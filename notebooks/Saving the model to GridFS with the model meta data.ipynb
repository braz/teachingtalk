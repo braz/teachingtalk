{
 "cells": [
  {
   "cell_type": "markdown",
   "metadata": {},
   "source": [
    "# An example of saving the model to GridFS with the model meta data\n",
    "\n",
    "This python notebook shows the next steps you would need to take the model generated and then save it would some additional data such as when it was created and the parameters used by that model to GridFS."
   ]
  },
  {
   "cell_type": "code",
   "execution_count": 6,
   "metadata": {},
   "outputs": [],
   "source": [
    "import datetime\n",
    "import gridfs\n",
    "import pandas as pd\n",
    "import pickle\n",
    "import pymongo\n",
    "import urllib.request\n",
    "import xgboost\n",
    "\n",
    "from bson.binary import Binary\n",
    "from sklearn import model_selection\n",
    "from sklearn.metrics import accuracy_score\n",
    "from sklearn.model_selection import train_test_split\n",
    "from sklearn.preprocessing import LabelEncoder\n",
    "\n",
    "# URL for the Iris dataset (UCI Machine Learning Repository)\n",
    "url = \"http://archive.ics.uci.edu/ml/machine-learning-databases/iris/iris.data\"\n",
    "\n",
    "# download the file\n",
    "raw_data = urllib.request.urlopen(url)\n",
    "\n",
    "# load the CSV file as a numpy matrix\n",
    "data = pd.read_csv(raw_data, header=None)\n",
    "dataset = data.values\n",
    "\n",
    "# split data into X (petal and sepal l/w's) and y (species name as string)\n",
    "X = dataset[:, 0:4]\n",
    "Y = dataset[:, 4]\n",
    "\n",
    "# encode string class (species names) values as integers\n",
    "label_encoder = LabelEncoder()\n",
    "label_encoder = label_encoder.fit(Y)\n",
    "label_encoded_y = label_encoder.transform(Y)\n",
    "\n",
    "seed = 7\n",
    "test_size = 0.33\n",
    "X_train, X_test, y_train, y_test = train_test_split(X, label_encoded_y, test_size=test_size, random_state=seed)\n",
    "\n",
    "# fit model no training data\n",
    "model = xgboost.XGBClassifier()\n",
    "model.fit(X_train, y_train)\n",
    "# Save the time we created this model\n",
    "model_created_at = datetime.datetime.utcnow()\n",
    "\n",
    "# make the predictions on the test data\n",
    "y_pred = model.predict(X_test)\n",
    "predictions = [round(value) for value in y_pred]\n",
    "\n",
    "# determine the accuracy of the classifer\n",
    "accuracy = accuracy_score(y_test, predictions)\n",
    "\n",
    "# Get the specific model name from the type\n",
    "model_name = str(type(model))\n",
    "model_name = model_name[8:-2]\n",
    "\n",
    "# Connect to MongoDB and store the model (this assumes you have a mongod on 28017 on your laptop)\n",
    "mongo = pymongo.MongoClient(\"localhost:28017\")\n",
    "grid_db = mongo.grid\n",
    "fs = gridfs.GridFS(grid_db)\n",
    "model_id = fs.put(pickle.dumps(model), model_type=model_name, model_created_at=model_created_at, model_param=model.get_xgb_params(), accuracy=accuracy)\n"
   ]
  },
  {
   "cell_type": "code",
   "execution_count": null,
   "metadata": {},
   "outputs": [],
   "source": []
  }
 ],
 "metadata": {
  "kernelspec": {
   "display_name": "Python 3",
   "language": "python",
   "name": "python3"
  },
  "language_info": {
   "codemirror_mode": {
    "name": "ipython",
    "version": 3
   },
   "file_extension": ".py",
   "mimetype": "text/x-python",
   "name": "python",
   "nbconvert_exporter": "python",
   "pygments_lexer": "ipython3",
   "version": "3.6.3"
  }
 },
 "nbformat": 4,
 "nbformat_minor": 2
}
