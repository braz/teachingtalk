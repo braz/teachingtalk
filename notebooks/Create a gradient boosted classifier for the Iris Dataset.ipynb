{
 "cells": [
  {
   "cell_type": "markdown",
   "metadata": {},
   "source": [
    "# An example of creating a gradient boosted classifier for the Iris data\n",
    "\n",
    "This python notebook highlights how using xgboost, pandas, urllib, and sci-kit learn (sklearn) you can create a classifier for the Iris data.\n",
    "\n",
    " * Load the data (in this case from the UCI ML repositiry)\n",
    " * It converts the data into a Pandas Dataframe\n",
    " * We split the data into X and Y breaking the prediction variables (Petal / Sepal Length / Width) and the Y (Iris species name as string)\n",
    " * The LabelEncoder() method also the species string names to be encoded as integers\n",
    " * In order to prevent overfitting of the model, we hold back some data (1/3) to test the model with after we train it. We use the train_test_split() to help set up the test data and the training data.\n",
    " * The model is then created and training (fit) with the training data set\n",
    " * The model is then tested (predict) to see how it performs on the unseen test data\n",
    " * The accuracy score is how it performed in classifying the unseen data into one of the three Iris species"
   ]
  },
  {
   "cell_type": "code",
   "execution_count": 1,
   "metadata": {},
   "outputs": [
    {
     "name": "stdout",
     "output_type": "stream",
     "text": [
      "XGBClassifier(base_score=0.5, booster='gbtree', colsample_bylevel=1,\n",
      "       colsample_bytree=1, gamma=0, learning_rate=0.1, max_delta_step=0,\n",
      "       max_depth=3, min_child_weight=1, missing=None, n_estimators=100,\n",
      "       n_jobs=1, nthread=None, objective='multi:softprob', random_state=0,\n",
      "       reg_alpha=0, reg_lambda=1, scale_pos_weight=1, seed=None,\n",
      "       silent=True, subsample=1)\n",
      "Accuracy: 92.00%\n"
     ]
    }
   ],
   "source": [
    "import urllib.request\n",
    "import pandas as pd\n",
    "import xgboost\n",
    "from sklearn import model_selection\n",
    "from sklearn.model_selection import train_test_split\n",
    "from sklearn.preprocessing import LabelEncoder\n",
    "from sklearn.metrics import accuracy_score\n",
    " \n",
    "# URL for the Iris dataset (UCI Machine Learning Repository)\n",
    "url = \"http://archive.ics.uci.edu/ml/machine-learning-databases/iris/iris.data\"\n",
    "\n",
    "# download the file\n",
    "raw_data = urllib.request.urlopen(url)\n",
    "\n",
    "# load the CSV file as a numpy matrix\n",
    "data = pd.read_csv(raw_data, header=None)\n",
    "dataset = data.values\n",
    "\n",
    "# split data into X (petal and sepal l/w's) and y (species name as string)\n",
    "X = dataset[:, 0:4]\n",
    "Y = dataset[:, 4]\n",
    "\n",
    "# encode string class (species names) values as integers\n",
    "label_encoder = LabelEncoder()\n",
    "label_encoder = label_encoder.fit(Y)\n",
    "label_encoded_y = label_encoder.transform(Y)\n",
    "\n",
    "seed = 7\n",
    "test_size = 0.33\n",
    "X_train, X_test, y_train, y_test = train_test_split(X, label_encoded_y, test_size=test_size, random_state=seed)\n",
    "\n",
    "# fit model no training data\n",
    "model = xgboost.XGBClassifier()\n",
    "model.fit(X_train, y_train)\n",
    "# print the model and it's various parameters\n",
    "print(model)\n",
    "\n",
    "# make the predictions on the test data\n",
    "y_pred = model.predict(X_test)\n",
    "predictions = [round(value) for value in y_pred]\n",
    "\n",
    "# determine the accuracy of the classifer\n",
    "accuracy = accuracy_score(y_test, predictions)\n",
    "\n",
    "print(\"Accuracy: {0:.2f}%\".format(accuracy * 100.0))\n"
   ]
  },
  {
   "cell_type": "code",
   "execution_count": null,
   "metadata": {},
   "outputs": [],
   "source": []
  }
 ],
 "metadata": {
  "kernelspec": {
   "display_name": "Python 3",
   "language": "python",
   "name": "python3"
  },
  "language_info": {
   "codemirror_mode": {
    "name": "ipython",
    "version": 3
   },
   "file_extension": ".py",
   "mimetype": "text/x-python",
   "name": "python",
   "nbconvert_exporter": "python",
   "pygments_lexer": "ipython3",
   "version": "3.6.3"
  }
 },
 "nbformat": 4,
 "nbformat_minor": 2
}
