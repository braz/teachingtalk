{
 "cells": [
  {
   "cell_type": "markdown",
   "metadata": {},
   "source": [
    "# An example to plot Vinho Verde Portuguese Red Wine\n",
    "\n",
    "This python notebook shows a simple linear regression for another dataset\n",
    "\n",
    " * Load the data from the UCI ML repository\n",
    " * Specify the names of the various fields in the data\n",
    " * It converts the data into a Pandas Dataframe\n",
    " * We then take the alcohol and rated quality and reshape the data to be on a scale of -1 to 1\n",
    " * We use a simple Linear Regression to fitting on the reshaped data\n",
    " * We then plot the data and add also the regression line to the plot"
   ]
  },
  {
   "cell_type": "code",
   "execution_count": 1,
   "metadata": {},
   "outputs": [
    {
     "name": "stderr",
     "output_type": "stream",
     "text": [
      "/Users/braz/anaconda/envs/proactive3/lib/python3.6/site-packages/sklearn/linear_model/base.py:485: RuntimeWarning: internal gelsd driver lwork query error, required iwork dimension not returned. This is likely the result of LAPACK bug 0038, fixed in LAPACK 3.2.2 (released July 21, 2010). Falling back to 'gelss' driver.\n",
      "  linalg.lstsq(X, y)\n",
      "/Users/braz/anaconda/envs/proactive3/lib/python3.6/site-packages/matplotlib/axes/_axes.py:545: UserWarning: No labelled objects found. Use label='...' kwarg on individual plots.\n",
      "  warnings.warn(\"No labelled objects found. \"\n"
     ]
    },
    {
     "data": {
      "text/plain": [
       "<matplotlib.figure.Figure at 0x11891a7b8>"
      ]
     },
     "metadata": {},
     "output_type": "display_data"
    },
    {
     "data": {
      "image/png": "[encoded data removed]",
      "text/plain": [
       "<matplotlib.figure.Figure at 0x10ca3e128>"
      ]
     },
     "metadata": {},
     "output_type": "display_data"
    }
   ],
   "source": [
    "%matplotlib inline\n",
    "import urllib.request\n",
    "import pandas as pd\n",
    "import numpy as np\n",
    "import matplotlib.pyplot as plt\n",
    "from sklearn import linear_model\n",
    "\n",
    "# URL for the Wine Quality Portuguese \"Vinho Verde\" red wine dataset (UCI Machine Learning Repository)\n",
    "url = \"https://archive.ics.uci.edu/ml/machine-learning-databases/wine-quality/winequality-red.csv\"\n",
    "\n",
    "# download the file\n",
    "raw_data = urllib.request.urlopen(url)\n",
    "data_names= ['fixed acidity', 'volatile acidity', 'citric acid', 'residual sugar', 'chlorides', 'free sulfur dioxide', 'total sulfur dioxide', 'density', 'pH', 'sulphates', 'alcohol', 'quality (0-10)']\n",
    "\n",
    "# load the CSV file as a numpy matrix\n",
    "data = pd.read_csv(raw_data, sep=\";\", header=None, skiprows=1)\n",
    "data.columns = data_names\n",
    "\n",
    "# Create linear regression object\n",
    "regr = linear_model.LinearRegression()\n",
    "x_data = data['alcohol'].values.reshape(-1,1)\n",
    "y_data = data['quality (0-10)'].values.reshape(-1,1)\n",
    "# once the data is reshaped, running the fit is simple\n",
    "regr.fit(x_data, y_data)\n",
    "\n",
    "plt.clf()\n",
    "plt.figure(figsize = (10, 6))\n",
    "plt.title('Alcohol vs Quality')\n",
    "plt.xlabel(data_names[10])\n",
    "plt.ylabel(data_names[11])\n",
    "plt.scatter(data['alcohol'].values, data['quality (0-10)'].values)\n",
    "plt.legend()\n",
    "# Plot the data and the fit for the linear regresssion\n",
    "plt.plot(x_data, regr.predict(x_data), color='black', linewidth=3)\n",
    "plt.show()"
   ]
  },
  {
   "cell_type": "code",
   "execution_count": null,
   "metadata": {},
   "outputs": [],
   "source": []
  }
 ],
 "metadata": {
  "kernelspec": {
   "display_name": "Python 3",
   "language": "python",
   "name": "python3"
  },
  "language_info": {
   "codemirror_mode": {
    "name": "ipython",
    "version": 3
   },
   "file_extension": ".py",
   "mimetype": "text/x-python",
   "name": "python",
   "nbconvert_exporter": "python",
   "pygments_lexer": "ipython3",
   "version": "3.6.3"
  }
 },
 "nbformat": 4,
 "nbformat_minor": 2
}
